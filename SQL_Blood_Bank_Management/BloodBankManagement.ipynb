{
  "metadata": {
    "kernelspec": {
      "name": "SQLite",
      "display_name": "SQLite",
      "language": "sql"
    },
    "language_info": {
      "codemirror_mode": "sql",
      "file_extension": "",
      "mimetype": "",
      "name": "sql",
      "version": "3.32.3"
    }
  },
  "nbformat_minor": 4,
  "nbformat": 4,
  "cells": [
    {
      "cell_type": "raw",
      "source": "SQL Beginner Project: Blood Bank Management\n\nTask assignment:\n\nBlood banks collect blood and send it to patients who need it. For this operation to function well, \nthe blood bank must have good records of the donors and collected blood,\nwhich can be compared to patient data. These records also ensure the bank has enough blood in its reserves.\n\nFor this project, you are to create a database for a blood bank.\nThe database should have records of donors, patients, and blood held in the blood bank’s stores. \nRelevant information for the different sets of records may be as follows:\n\nDonors: Name, Phone No., Address, and Donation Location\nPatient: Name, Illness/Injury, Blood Group, Allergies/Sensitivities\nBlood: Blood Group, Donor, Medical Details\nAdditional details can be added if the database is for multiple blood banks.\nQueries should be able to answer questions such as the availability of different blood types in the inventory, \ndonations that match a patient’s needs, etc.",
      "metadata": {}
    },
    {
      "cell_type": "raw",
      "source": "SQL Project for Beginners: Blood Bank Database\nIntroduction\nIn this project, we will create a basic SQL database for a blood bank system. Blood banks are critical to healthcare, ensuring that life-saving blood products are available to patients in need. The database we create will help in managing donor information, patient data, and blood inventory. This project is designed for beginners and will guide you step-by-step through the process of setting up and querying the database.\n\nProject Overview\n1) Setting Up the Database\nWe will begin by creating a new database called bloodbank. This database will contain several tables to store information about donors, patients, blood inventory, and hospitals.\n\n2) Creating Tables\nWe will create the following tables:\n\nDonors: To store information about blood donors.\nPatients: To store information about patients who may need blood.\nBlood_Inventory: To store information about the blood units available in the blood bank.\nHospitals: To store information about hospitals that may request blood.\n\n3) Inserting Data\nOnce the tables are created, we will insert some sample data into each table to simulate a real-world scenario.\n\n4) Writing Queries\nFinally, we will write SQL queries to extract useful information from the database, such as available blood types, matching donors with patients, and blood availability at different hospitals.\n",
      "metadata": {}
    },
    {
      "cell_type": "code",
      "source": "Step-by-Step Instructions:\n1) Setting Up the Database\n\n-- Step 1: Create a new database\nCREATE DATABASE bloodbank;\nUSE blood_donation_system;\nSHOW TABLES;",
      "metadata": {
        "trusted": true
      },
      "outputs": [
        {
          "ename": "Error",
          "evalue": "Please load a database to perform operations",
          "traceback": [
            "Error: Please load a database to perform operations"
          ],
          "output_type": "error"
        }
      ],
      "execution_count": 1
    },
    {
      "cell_type": "code",
      "source": "-- Step 2: Use the newly created database\nUSE bloodbank;\n\n2) Creating Tables\nTable 1: Donors\nThe Donors table will store information about the people who donate blood.",
      "metadata": {
        "trusted": true
      },
      "outputs": [
        {
          "ename": "Error",
          "evalue": "Please load a database to perform operations",
          "traceback": [
            "Error: Please load a database to perform operations"
          ],
          "output_type": "error"
        }
      ],
      "execution_count": 2
    },
    {
      "cell_type": "code",
      "source": "\n-- Step 3: Create the Donors table\nCREATE TABLE Donors (\n    DonorID INT AUTO_INCREMENT PRIMARY KEY,\n    Name VARCHAR(100),\n    PhoneNo VARCHAR(15),\n    Address VARCHAR(255),\n    DonationLocation VARCHAR(100)\n);",
      "metadata": {
        "trusted": true
      },
      "outputs": [
        {
          "ename": "Error",
          "evalue": "Please load a database to perform operations",
          "traceback": [
            "Error: Please load a database to perform operations"
          ],
          "output_type": "error"
        }
      ],
      "execution_count": 3
    },
    {
      "cell_type": "code",
      "source": "Table 2: Patients\nThe Patients table will store information about the patients who might need blood.\n\n-- Step 4: Create the Patients table\nCREATE TABLE Patients (\n    PatientID INT AUTO_INCREMENT PRIMARY KEY,\n    Name VARCHAR(100),\n    IllnessInjury VARCHAR(255),\n    BloodGroup VARCHAR(3),\n    Allergies VARCHAR(255)\n);",
      "metadata": {
        "trusted": true
      },
      "outputs": [
        {
          "ename": "Error",
          "evalue": "Please load a database to perform operations",
          "traceback": [
            "Error: Please load a database to perform operations"
          ],
          "output_type": "error"
        }
      ],
      "execution_count": 4
    },
    {
      "cell_type": "code",
      "source": "Table 3: Blood_Inventory\nThe Blood_Inventory table will keep track of the blood units available in the blood bank.\n\n-- Step 5: Create the Blood_Inventory table\nCREATE TABLE Blood_Inventory (\n    BloodID INT AUTO_INCREMENT PRIMARY KEY,\n    BloodGroup VARCHAR(3),\n    DonorID INT,\n    CollectionDate DATE,\n    ExpiryDate DATE,\n    FOREIGN KEY (DonorID) REFERENCES Donors(DonorID)\n);",
      "metadata": {
        "trusted": true
      },
      "outputs": [
        {
          "ename": "Error",
          "evalue": "Please load a database to perform operations",
          "traceback": [
            "Error: Please load a database to perform operations"
          ],
          "output_type": "error"
        }
      ],
      "execution_count": 5
    },
    {
      "cell_type": "code",
      "source": "Table 4: Hospitals\nThe Hospitals table will store information about hospitals that request blood.\n\n-- Step 6: Create the Hospitals table\nCREATE TABLE Hospitals (\n    HospitalID INT AUTO_INCREMENT PRIMARY KEY,\n    HospitalName VARCHAR(100),\n    City VARCHAR(100),\n    PhoneNo VARCHAR(15)\n);",
      "metadata": {
        "trusted": true
      },
      "outputs": [
        {
          "ename": "Error",
          "evalue": "Please load a database to perform operations",
          "traceback": [
            "Error: Please load a database to perform operations"
          ],
          "output_type": "error"
        }
      ],
      "execution_count": 6
    },
    {
      "cell_type": "code",
      "source": "3) Inserting Data\nLet's insert some sample data into these tables.\n\n-- Step 7: Insert data into Donors table\n    \nINSERT INTO Donors (Name, PhoneNo, Address, DonationLocation) VALUES\n('John Doe', '123-456-7890', '123 Elm St, Springfield', 'Central Blood Bank'),\n('Jane Smith', '234-567-8901', '456 Oak St, Springfield', 'Westside Blood Bank'),\n('Paul Anderson', '345-678-9012', '789 Pine St, Springfield', 'Northside Blood Bank'),\n('Laura Wilson', '456-789-0123', '101 Maple St, Springfield', 'Central Blood Bank'),\n('Mike Taylor', '567-890-1234', '102 Cedar St, Springfield', 'Eastside Blood Bank');",
      "metadata": {
        "trusted": true
      },
      "outputs": [
        {
          "ename": "Error",
          "evalue": "Please load a database to perform operations",
          "traceback": [
            "Error: Please load a database to perform operations"
          ],
          "output_type": "error"
        }
      ],
      "execution_count": 7
    },
    {
      "cell_type": "code",
      "source": "-- Step 8: Insert data into Patients table\n\nINSERT INTO Patients (Name, IllnessInjury, BloodGroup, Allergies) VALUES\n('Alice Brown', 'Car Accident', 'A+', 'None'),\n('Bob Johnson', 'Surgery', 'O-', 'Penicillin'),\n('Charlie Davis', 'Burns', 'B+', 'None'),\n('Diana Evans', 'Leukemia', 'AB-', 'Aspirin'),\n('Evan Foster', 'Liver Transplant', 'A-', 'None'),\n('Grace Harris', 'Heart Attack', 'O+', 'None');\n",
      "metadata": {
        "trusted": true
      },
      "outputs": [
        {
          "ename": "Error",
          "evalue": "Please load a database to perform operations",
          "traceback": [
            "Error: Please load a database to perform operations"
          ],
          "output_type": "error"
        }
      ],
      "execution_count": 8
    },
    {
      "cell_type": "code",
      "source": "-- Step 9: Insert data into Blood_Inventory table\nINSERT INTO Blood_Inventory (BloodGroup, DonorID, CollectionDate, ExpiryDate) VALUES\n('A+', 1, '2023-08-01', '2023-08-31'),\n('O-', 2, '2023-08-05', '2023-09-05'),\n('B+', 3, '2023-07-20', '2023-08-20'),\n('AB-', 4, '2023-08-10', '2023-09-10'),\n('A-', 5, '2023-09-01', '2023-09-30'),\n('O+', 1, '2023-09-03', '2023-10-03');",
      "metadata": {
        "trusted": true
      },
      "outputs": [
        {
          "ename": "Error",
          "evalue": "Please load a database to perform operations",
          "traceback": [
            "Error: Please load a database to perform operations"
          ],
          "output_type": "error"
        }
      ],
      "execution_count": 9
    },
    {
      "cell_type": "code",
      "source": "-- Step 10: Insert data into Hospitals table\nINSERT INTO Hospitals (HospitalName, City, PhoneNo) VALUES\n('City Hospital', 'Springfield', '345-678-9012'),\n('County General', 'Springfield', '456-789-0123'),\n('Northside Clinic', 'Springfield', '567-890-1234'),\n('Eastside Medical Center', 'Springfield', '678-901-2345'),\n('Westfield Hospital', 'Springfield', '789-012-3456');\n",
      "metadata": {
        "trusted": true
      },
      "outputs": [
        {
          "ename": "Error",
          "evalue": "Please load a database to perform operations",
          "traceback": [
            "Error: Please load a database to perform operations"
          ],
          "output_type": "error"
        }
      ],
      "execution_count": 10
    },
    {
      "cell_type": "code",
      "source": "4) Writing Queries\nNow, let's write some queries to retrieve information from our database.\n\n- Query 1: Find Available Blood Units\n\n-- Step 11: Retrieve all available blood units\nSELECT * FROM Blood_Inventory",
      "metadata": {
        "trusted": true
      },
      "outputs": [
        {
          "ename": "Error",
          "evalue": "Please load a database to perform operations",
          "traceback": [
            "Error: Please load a database to perform operations"
          ],
          "output_type": "error"
        }
      ],
      "execution_count": 11
    },
    {
      "cell_type": "code",
      "source": "- Query 2: Match Donors to Patients\n\n\n-- Step 12: Find donors who have the same blood type as a specific patient\nSELECT Donors.Name, Donors.PhoneNo\nFROM Donors\nJOIN Blood_Inventory ON Donors.DonorID = Blood_Inventory.DonorID\nJOIN Patients ON Blood_Inventory.BloodGroup = Patients.BloodGroup\nWHERE Patients.Name = 'Alice Brown';",
      "metadata": {
        "trusted": true
      },
      "outputs": [
        {
          "ename": "Error",
          "evalue": "Please load a database to perform operations",
          "traceback": [
            "Error: Please load a database to perform operations"
          ],
          "output_type": "error"
        }
      ],
      "execution_count": 12
    },
    {
      "cell_type": "code",
      "source": "- Query 3: Check Blood Availability at a Specific Hospital\n\n\n-- Step 13: Find blood types available at a specific hospital\nSELECT Blood_Inventory.BloodGroup, COUNT(*) AS UnitsAvailable\nFROM Blood_Inventory\nJOIN Hospitals ON Hospitals.HospitalID = Blood_Inventory.BloodID\nWHERE Hospitals.HospitalName = 'City Hospital'\nGROUP BY Blood_Inventory.BloodGroup;",
      "metadata": {
        "trusted": true
      },
      "outputs": [
        {
          "ename": "Error",
          "evalue": "Please load a database to perform operations",
          "traceback": [
            "Error: Please load a database to perform operations"
          ],
          "output_type": "error"
        }
      ],
      "execution_count": 13
    },
    {
      "cell_type": "raw",
      "source": "Conclusion\nThis project provides a foundational understanding of creating and managing a SQL database for a blood bank. \nYou have learned how to create tables, insert data, and write queries to extract useful information. \nAs you become more comfortable with SQL, you can expand this project by adding more features, \nsuch as tracking blood requests, managing staff, or integrating the system with a hospital’s existing database.",
      "metadata": {}
    }
  ]
}